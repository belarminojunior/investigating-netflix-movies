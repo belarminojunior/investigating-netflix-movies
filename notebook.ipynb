{
 "cells": [
  {
   "cell_type": "markdown",
   "id": "937acf3c-c077-4ca6-8d90-8f6dd4d13c54",
   "metadata": {},
   "source": [
    "<center><img src=\"redpopcorn.jpg\"></center>"
   ]
  },
  {
   "cell_type": "markdown",
   "id": "5962b2cd-17bb-4ec9-b2d5-68537ca26860",
   "metadata": {},
   "source": [
    "**Netflix**! What started in 1997 as a DVD rental service has since exploded into one of the largest entertainment and media companies.\n",
    "\n",
    "Given the large number of movies and series available on the platform, it is a perfect opportunity to flex your exploratory data analysis skills and dive into the entertainment industry.\n",
    "\n",
    "You work for a production company that specializes in nostalgic styles. You want to do some research on movies released in the 1990's. You'll delve into Netflix data and perform exploratory data analysis to better understand this awesome movie decade!\n",
    "\n",
    "You have been supplied with the dataset `netflix_data.csv`, along with the following table detailing the column names and descriptions. Feel free to experiment further after submitting!\n",
    "\n",
    "## The data\n",
    "### **netflix_data.csv**\n",
    "| Column | Description |\n",
    "|--------|-------------|\n",
    "| `show_id` | The ID of the show |\n",
    "| `type` | Type of show |\n",
    "| `title` | Title of the show |\n",
    "| `director` | Director of the show |\n",
    "| `cast` | Cast of the show |\n",
    "| `country` | Country of origin |\n",
    "| `date_added` | Date added to Netflix |\n",
    "| `release_year` | Year of Netflix release |\n",
    "| `duration` | Duration of the show in minutes |\n",
    "| `description` | Description of the show |\n",
    "| `genre` | Show genre |"
   ]
  },
  {
   "cell_type": "code",
   "execution_count": null,
   "id": "88b2936a",
   "metadata": {},
   "outputs": [],
   "source": [
    "# Investigating Netflix Movies:\n",
    "# Problem: The 1990s\n",
    "\n",
    "# In this notebook, I will explore the Netflix dataset to solve the problem and learn more about movies released in the 1990s.  \n",
    "\n",
    "# Quesytions to be answered:\n",
    "# 1. What was the most frequent duration of movies in the 1990s?\n",
    "# 2. How many short action movies (less than 90 minutes) were released in this decade?"
   ]
  },
  {
   "cell_type": "code",
   "execution_count": 1,
   "id": "f1ed2cce",
   "metadata": {},
   "outputs": [],
   "source": [
    "# Import libraries\n",
    "import pandas as pd\n",
    "import matplotlib.pyplot as plt"
   ]
  },
  {
   "cell_type": "code",
   "execution_count": null,
   "id": "cb9517a0",
   "metadata": {},
   "outputs": [],
   "source": [
    "# Reading the dataset as a DataFrame\n",
    "\n",
    "netflix_df = pd.read_csv('netflix_data.csv')\n",
    "netflix_df.head()"
   ]
  },
  {
   "cell_type": "code",
   "execution_count": null,
   "id": "eb48fa0c",
   "metadata": {},
   "outputs": [],
   "source": [
    "# Subsetiing the dataframe for movies\n",
    "\n",
    "netflix_subset = netflix_df[netflix_df['type'] == 'Movie']\n",
    "netflix_subset.head()"
   ]
  },
  {
   "cell_type": "code",
   "execution_count": null,
   "id": "71292ccb",
   "metadata": {},
   "outputs": [],
   "source": [
    "# Now I'm filtering the movies released in the 1990s\n",
    "\n",
    "movies_1990s = netflix_subset[(netflix_subset['release_year'] >= 1990) & (netflix_subset['release_year'] < 2000)]\n",
    "\n",
    "movies_1990s.head()"
   ]
  },
  {
   "cell_type": "code",
   "execution_count": 11,
   "id": "dd43b5b4",
   "metadata": {},
   "outputs": [
    {
     "data": {
      "image/png": "[encoded data removed]",
      "text/plain": [
       "<Figure size 800x500 with 1 Axes>"
      ]
     },
     "metadata": {},
     "output_type": "display_data"
    }
   ],
   "source": [
    "# Visualization\n",
    "\n",
    "plt.figure(figsize=(8, 5))\n",
    "plt.hist(movies_1990s['duration'], bins=15, edgecolor='black')\n",
    "plt.title('Distribution of Movie Durations in the 90s', fontsize=14)\n",
    "plt.xlabel('Duration (minutes)')\n",
    "plt.ylabel('Number of Movies')\n",
    "plt.show()"
   ]
  },
  {
   "cell_type": "code",
   "execution_count": 14,
   "id": "f5229866",
   "metadata": {},
   "outputs": [
    {
     "data": {
      "text/plain": [
       "100"
      ]
     },
     "execution_count": 14,
     "metadata": {},
     "output_type": "execute_result"
    }
   ],
   "source": [
    "# From the histogram, we can see that the most frequent movie duration is approximately 100 minutes.\n",
    "\n",
    "#Saving the first answer:\n",
    "duration = 100\n",
    "duration"
   ]
  },
  {
   "cell_type": "code",
   "execution_count": null,
   "id": "398ea1bc",
   "metadata": {},
   "outputs": [],
   "source": [
    "action_movies_1990s = movies_1990s[movies_1990s['genre'] == 'Action']\n",
    "action_movies_1990s.head()"
   ]
  },
  {
   "cell_type": "code",
   "execution_count": 13,
   "id": "f0737144",
   "metadata": {},
   "outputs": [
    {
     "data": {
      "text/plain": [
       "7"
      ]
     },
     "execution_count": 13,
     "metadata": {},
     "output_type": "execute_result"
    }
   ],
   "source": [
    "short_movie_count = (action_movies_1990s['duration'] < 90).sum()\n",
    "short_movie_count"
   ]
  },
  {
   "cell_type": "code",
   "execution_count": null,
   "id": "a77f359f",
   "metadata": {},
   "outputs": [],
   "source": [
    "## ✅ Results\n",
    "\n",
    "# The most frequent duration of movies in the 1990s was about 100 minutes.  \n",
    "# The number of short Action movies released in the 1990s was `short_movie_count` = 7.\n"
   ]
  }
 ],
 "metadata": {
  "colab": {
   "name": "Welcome to DataCamp Workspaces.ipynb",
   "provenance": []
  },
  "editor": "DataLab",
  "kernelspec": {
   "display_name": "Python 3",
   "language": "python",
   "name": "python3"
  },
  "language_info": {
   "codemirror_mode": {
    "name": "ipython",
    "version": 3
   },
   "file_extension": ".py",
   "mimetype": "text/x-python",
   "name": "python",
   "nbconvert_exporter": "python",
   "pygments_lexer": "ipython3",
   "version": "3.11.2"
  }
 },
 "nbformat": 4,
 "nbformat_minor": 5
}
